{
 "cells": [
  {
   "cell_type": "code",
   "execution_count": 1,
   "metadata": {},
   "outputs": [],
   "source": [
    "import pandas as pd\n",
    "import numpy as np\n",
    "import matplotlib.pyplot as plt\n",
    "%matplotlib inline\n",
    "\n"
   ]
  },
  {
   "cell_type": "code",
   "execution_count": 7,
   "metadata": {},
   "outputs": [],
   "source": [
    "from sklearn.preprocessing import LabelEncoder"
   ]
  },
  {
   "cell_type": "code",
   "execution_count": 2,
   "metadata": {},
   "outputs": [
    {
     "name": "stdout",
     "output_type": "stream",
     "text": [
      "(674, 18)\n",
      "        id        city country postalCode stateOrProvince  bathrooms  \\\n",
      "0  2698139   St Peters      US      63376              MO          6   \n",
      "1  2698093    St Louis      US      63119              MO          2   \n",
      "2  2698007     Ballwin      US      63021              MO          3   \n",
      "3  2697963  Manchester      US      63021              MO          2   \n",
      "4  2697938    O'fallon      US      63366              MO          4   \n",
      "\n",
      "   bedrooms   latitude  longitude  listPrice  livingArea livingAreaUnit  \\\n",
      "0         5  36.058472 -88.433106   425000.0      3046.0     squareFoot   \n",
      "1         3  36.058472 -88.433106   175000.0      1587.0     squareFoot   \n",
      "2         3  36.058472 -88.433106   295000.0      2437.0     squareFoot   \n",
      "3         3  36.058472 -88.433106   215000.0      1780.0     squareFoot   \n",
      "4         4  36.058472 -88.433106   375000.0      3405.0     squareFoot   \n",
      "\n",
      "   yearBuilt lotSizeUnit         propertySubType listingCategory  photoscount  \\\n",
      "0     1998.0  squareFoot  Single Family Detached        Purchase           29   \n",
      "1     1962.0  squareFoot  Single Family Detached        Purchase           29   \n",
      "2     1986.0  squareFoot             Condominium        Purchase           29   \n",
      "3     1969.0  squareFoot  Single Family Detached        Purchase           29   \n",
      "4     2007.0  squareFoot  Single Family Detached        Purchase           29   \n",
      "\n",
      "     grade  \n",
      "0  awesome  \n",
      "1  awesome  \n",
      "2  awesome  \n",
      "3  awesome  \n",
      "4  awesome  \n"
     ]
    }
   ],
   "source": [
    "data = pd.read_csv('cleanedData.csv')\n",
    "print(data.shape)\n",
    "print(data.head())"
   ]
  },
  {
   "cell_type": "code",
   "execution_count": 10,
   "metadata": {},
   "outputs": [
    {
     "name": "stdout",
     "output_type": "stream",
     "text": [
      "<class 'pandas.core.frame.DataFrame'>\n",
      "RangeIndex: 674 entries, 0 to 673\n",
      "Data columns (total 18 columns):\n",
      "id                 674 non-null int64\n",
      "city               674 non-null object\n",
      "country            674 non-null object\n",
      "postalCode         674 non-null object\n",
      "stateOrProvince    674 non-null object\n",
      "bathrooms          674 non-null int64\n",
      "bedrooms           674 non-null int64\n",
      "latitude           674 non-null float64\n",
      "longitude          674 non-null float64\n",
      "listPrice          674 non-null float64\n",
      "livingArea         674 non-null float64\n",
      "livingAreaUnit     674 non-null object\n",
      "yearBuilt          674 non-null float64\n",
      "lotSizeUnit        674 non-null object\n",
      "propertySubType    674 non-null object\n",
      "listingCategory    674 non-null object\n",
      "photoscount        674 non-null int64\n",
      "grade              674 non-null int64\n",
      "dtypes: float64(5), int64(5), object(8)\n",
      "memory usage: 94.9+ KB\n",
      "None\n"
     ]
    }
   ],
   "source": [
    "print(data.info())"
   ]
  },
  {
   "cell_type": "code",
   "execution_count": 14,
   "metadata": {},
   "outputs": [],
   "source": []
  },
  {
   "cell_type": "code",
   "execution_count": 6,
   "metadata": {},
   "outputs": [
    {
     "name": "stdout",
     "output_type": "stream",
     "text": [
      "[1 2 3]\n",
      "['Single Family Detached' 'Condominium' 'Townhouse' 'Manufactured Home'\n",
      " 'Duplex' 'Other' 'Single Family Attached' 'Apartment' 'Mobile Home'\n",
      " 'Stock Cooperative' 'Quadruplex' 'Farm' 'Timeshare' 'Triplex']\n"
     ]
    }
   ],
   "source": [
    "print(data['grade'].unique())\n",
    "print(data['propertySubType'].unique())"
   ]
  },
  {
   "cell_type": "code",
   "execution_count": 5,
   "metadata": {},
   "outputs": [
    {
     "name": "stdout",
     "output_type": "stream",
     "text": [
      "[1 2 3]\n"
     ]
    }
   ],
   "source": [
    "data['grade'].replace(['awesome','bad','good'],[1,2,3],inplace=True)\n",
    "print(data['grade'].unique())"
   ]
  },
  {
   "cell_type": "code",
   "execution_count": 11,
   "metadata": {},
   "outputs": [
    {
     "name": "stdout",
     "output_type": "stream",
     "text": [
      "Index(['id', 'city', 'country', 'postalCode', 'stateOrProvince', 'bathrooms',\n",
      "       'bedrooms', 'latitude', 'longitude', 'listPrice', 'livingArea',\n",
      "       'livingAreaUnit', 'yearBuilt', 'lotSizeUnit', 'propertySubType',\n",
      "       'listingCategory', 'photoscount', 'grade'],\n",
      "      dtype='object')\n"
     ]
    }
   ],
   "source": [
    "print(data.columns)"
   ]
  },
  {
   "cell_type": "code",
   "execution_count": 8,
   "metadata": {},
   "outputs": [],
   "source": [
    "encoder = LabelEncoder()"
   ]
  },
  {
   "cell_type": "code",
   "execution_count": 99,
   "metadata": {},
   "outputs": [
    {
     "ename": "TypeError",
     "evalue": "only size-1 arrays can be converted to Python scalars",
     "output_type": "error",
     "traceback": [
      "\u001b[1;31m---------------------------------------------------------------------------\u001b[0m",
      "\u001b[1;31mTypeError\u001b[0m                                 Traceback (most recent call last)",
      "\u001b[1;32m<ipython-input-99-18f400c7e4e4>\u001b[0m in \u001b[0;36m<module>\u001b[1;34m()\u001b[0m\n\u001b[1;32m----> 1\u001b[1;33m \u001b[0mdata\u001b[0m\u001b[1;33m[\u001b[0m\u001b[1;34m'city'\u001b[0m\u001b[1;33m]\u001b[0m \u001b[1;33m=\u001b[0m \u001b[0mint\u001b[0m\u001b[1;33m(\u001b[0m\u001b[0mencoder\u001b[0m\u001b[1;33m.\u001b[0m\u001b[0mfit_transform\u001b[0m\u001b[1;33m(\u001b[0m\u001b[0mdata\u001b[0m\u001b[1;33m[\u001b[0m\u001b[1;34m'city'\u001b[0m\u001b[1;33m]\u001b[0m\u001b[1;33m)\u001b[0m\u001b[1;33m)\u001b[0m\u001b[1;33m\u001b[0m\u001b[0m\n\u001b[0m\u001b[0;32m      2\u001b[0m \u001b[0mdata\u001b[0m\u001b[1;33m[\u001b[0m\u001b[1;34m'country'\u001b[0m\u001b[1;33m]\u001b[0m \u001b[1;33m=\u001b[0m \u001b[0mencoder\u001b[0m\u001b[1;33m.\u001b[0m\u001b[0mfit_transform\u001b[0m\u001b[1;33m(\u001b[0m\u001b[0mdata\u001b[0m\u001b[1;33m[\u001b[0m\u001b[1;34m'country'\u001b[0m\u001b[1;33m]\u001b[0m\u001b[1;33m)\u001b[0m\u001b[1;33m\u001b[0m\u001b[0m\n\u001b[0;32m      3\u001b[0m \u001b[0mdata\u001b[0m\u001b[1;33m[\u001b[0m\u001b[1;34m'stateOrProvince'\u001b[0m\u001b[1;33m]\u001b[0m \u001b[1;33m=\u001b[0m \u001b[0mencoder\u001b[0m\u001b[1;33m.\u001b[0m\u001b[0mfit_transform\u001b[0m\u001b[1;33m(\u001b[0m\u001b[0mdata\u001b[0m\u001b[1;33m[\u001b[0m\u001b[1;34m'stateOrProvince'\u001b[0m\u001b[1;33m]\u001b[0m\u001b[1;33m)\u001b[0m\u001b[1;33m\u001b[0m\u001b[0m\n\u001b[0;32m      4\u001b[0m \u001b[0mdata\u001b[0m\u001b[1;33m[\u001b[0m\u001b[1;34m'listingCategory'\u001b[0m\u001b[1;33m]\u001b[0m \u001b[1;33m=\u001b[0m \u001b[0mencoder\u001b[0m\u001b[1;33m.\u001b[0m\u001b[0mfit_transform\u001b[0m\u001b[1;33m(\u001b[0m\u001b[0mdata\u001b[0m\u001b[1;33m[\u001b[0m\u001b[1;34m'listingCategory'\u001b[0m\u001b[1;33m]\u001b[0m\u001b[1;33m)\u001b[0m\u001b[1;33m\u001b[0m\u001b[0m\n\u001b[0;32m      5\u001b[0m \u001b[0mdata\u001b[0m\u001b[1;33m[\u001b[0m\u001b[1;34m'livingAreaUnit'\u001b[0m\u001b[1;33m]\u001b[0m \u001b[1;33m=\u001b[0m \u001b[0mencoder\u001b[0m\u001b[1;33m.\u001b[0m\u001b[0mfit_transform\u001b[0m\u001b[1;33m(\u001b[0m\u001b[0mdata\u001b[0m\u001b[1;33m[\u001b[0m\u001b[1;34m'livingAreaUnit'\u001b[0m\u001b[1;33m]\u001b[0m\u001b[1;33m)\u001b[0m\u001b[1;33m\u001b[0m\u001b[0m\n",
      "\u001b[1;31mTypeError\u001b[0m: only size-1 arrays can be converted to Python scalars"
     ]
    }
   ],
   "source": [
    "data['city'] = encoder.fit_transform(data['city'])\n",
    "data['country'] = encoder.fit_transform(data['country'])\n",
    "data['stateOrProvince'] = encoder.fit_transform(data['stateOrProvince'])\n",
    "data['listingCategory'] = encoder.fit_transform(data['listingCategory'])\n",
    "data['livingAreaUnit'] = encoder.fit_transform(data['livingAreaUnit'])\n",
    "data['lotSizeUnit'] = encoder.fit_transform(data['lotSizeUnit'])\n",
    "data['propertySubType'] = encoder.fit_transform(data['propertySubType'])\n",
    "data['listingCategory'] = encoder.fit_transform(data['listingCategory'])"
   ]
  },
  {
   "cell_type": "code",
   "execution_count": 16,
   "metadata": {},
   "outputs": [
    {
     "name": "stdout",
     "output_type": "stream",
     "text": [
      "        id  city  country postalCode  stateOrProvince  bathrooms  bedrooms  \\\n",
      "0  2698139   420        2      63376               20          6         5   \n",
      "1  2698093   419        2      63119               20          2         3   \n",
      "2  2698007    18        2      63021               20          3         3   \n",
      "3  2697963   254        2      63021               20          2         3   \n",
      "4  2697938   307        2      63366               20          4         4   \n",
      "\n",
      "    latitude  longitude  listPrice  livingArea  livingAreaUnit  yearBuilt  \\\n",
      "0  36.058472 -88.433106   425000.0      3046.0               0     1998.0   \n",
      "1  36.058472 -88.433106   175000.0      1587.0               0     1962.0   \n",
      "2  36.058472 -88.433106   295000.0      2437.0               0     1986.0   \n",
      "3  36.058472 -88.433106   215000.0      1780.0               0     1969.0   \n",
      "4  36.058472 -88.433106   375000.0      3405.0               0     2007.0   \n",
      "\n",
      "   lotSizeUnit  propertySubType  listingCategory  photoscount  grade  \n",
      "0            0                9                0           29      1  \n",
      "1            0                9                0           29      1  \n",
      "2            0                1                0           29      1  \n",
      "3            0                9                0           29      1  \n",
      "4            0                9                0           29      1  \n"
     ]
    }
   ],
   "source": [
    "print(data.head())"
   ]
  },
  {
   "cell_type": "code",
   "execution_count": 17,
   "metadata": {},
   "outputs": [
    {
     "name": "stdout",
     "output_type": "stream",
     "text": [
      "<class 'pandas.core.frame.DataFrame'>\n",
      "RangeIndex: 674 entries, 0 to 673\n",
      "Data columns (total 18 columns):\n",
      "id                 674 non-null int64\n",
      "city               674 non-null int64\n",
      "country            674 non-null int64\n",
      "postalCode         674 non-null object\n",
      "stateOrProvince    674 non-null int64\n",
      "bathrooms          674 non-null int64\n",
      "bedrooms           674 non-null int64\n",
      "latitude           674 non-null float64\n",
      "longitude          674 non-null float64\n",
      "listPrice          674 non-null float64\n",
      "livingArea         674 non-null float64\n",
      "livingAreaUnit     674 non-null int64\n",
      "yearBuilt          674 non-null float64\n",
      "lotSizeUnit        674 non-null int64\n",
      "propertySubType    674 non-null int64\n",
      "listingCategory    674 non-null int64\n",
      "photoscount        674 non-null int64\n",
      "grade              674 non-null int64\n",
      "dtypes: float64(5), int64(12), object(1)\n",
      "memory usage: 94.9+ KB\n",
      "None\n"
     ]
    }
   ],
   "source": [
    "print(data.info())"
   ]
  },
  {
   "cell_type": "code",
   "execution_count": 19,
   "metadata": {},
   "outputs": [],
   "source": [
    "data['listPrice'] = (data['listPrice'] - data['listPrice'].mean()) / data['listPrice'].std()\n",
    "data['livingArea'] = (data['livingArea'] - data['livingArea'].mean()) / data['livingArea'].std()\n",
    "data['yearBuilt'] = (data['yearBuilt'] - data['yearBuilt'].mean()) / data['yearBuilt'].std()\n"
   ]
  },
  {
   "cell_type": "code",
   "execution_count": 20,
   "metadata": {},
   "outputs": [
    {
     "name": "stdout",
     "output_type": "stream",
     "text": [
      "        id  city  country postalCode  stateOrProvince  bathrooms  bedrooms  \\\n",
      "0  2698139   420        2      63376               20          6         5   \n",
      "1  2698093   419        2      63119               20          2         3   \n",
      "2  2698007    18        2      63021               20          3         3   \n",
      "3  2697963   254        2      63021               20          2         3   \n",
      "4  2697938   307        2      63366               20          4         4   \n",
      "\n",
      "    latitude  longitude  listPrice  livingArea  livingAreaUnit  yearBuilt  \\\n",
      "0  36.058472 -88.433106  -0.013684    0.973075               0   0.380010   \n",
      "1  36.058472 -88.433106  -0.058423   -0.286374               0  -0.403452   \n",
      "2  36.058472 -88.433106  -0.036949    0.447370               0   0.118856   \n",
      "3  36.058472 -88.433106  -0.051265   -0.119771               0  -0.251112   \n",
      "4  36.058472 -88.433106  -0.022632    1.282974               0   0.575875   \n",
      "\n",
      "   lotSizeUnit  propertySubType  listingCategory  photoscount  grade  \n",
      "0            0                9                0           29      1  \n",
      "1            0                9                0           29      1  \n",
      "2            0                1                0           29      1  \n",
      "3            0                9                0           29      1  \n",
      "4            0                9                0           29      1  \n"
     ]
    }
   ],
   "source": [
    "print(data.head())"
   ]
  },
  {
   "cell_type": "code",
   "execution_count": 28,
   "metadata": {},
   "outputs": [
    {
     "name": "stdout",
     "output_type": "stream",
     "text": [
      "1    266\n",
      "3    227\n",
      "2    181\n",
      "Name: grade, dtype: int64\n"
     ]
    }
   ],
   "source": [
    "print(data['grade'].value_counts())"
   ]
  },
  {
   "cell_type": "code",
   "execution_count": 30,
   "metadata": {},
   "outputs": [],
   "source": [
    "data.drop(['id'],axis=1,inplace=True)"
   ]
  },
  {
   "cell_type": "code",
   "execution_count": 74,
   "metadata": {},
   "outputs": [
    {
     "name": "stdout",
     "output_type": "stream",
     "text": [
      "[420   3 181 426  85 378  22 296 125 354 332 371 413 244 382 345 257 293\n",
      " 369 464 432 383 199 170 262  55   1  26 218 243 356  48 239 147 172  59\n",
      "  24 364 328 409 400 279 337 439  90 298 322 213 463 340 379 438 309 331\n",
      "  67  79 325 166 193 248 387 404 460 408 388 470 384 308 136 134 393 366\n",
      " 101 399 292  46 318 285 324 329 380 444  20 235 386 216  93 305 246  88\n",
      " 115 454 449 250 127 456 225 479 445 100 280  92 440 114  47 228  44 473\n",
      "  37 466   4 133 304 231 437  50  81 205 251  53 204 179 175 269 330 374\n",
      " 247 358 232 434  12 365 394 300 111 355 270 233 321 352 362 344 278 334\n",
      " 178 271 249 277 469  76 153  13 436 307 254  18 267 419  86 189  57  65\n",
      "  25 168 263 336  31 186   9 135 145 258 236 385 435 397 421 146 381 106\n",
      "  70 198 283 104 117 196 174 446 317  45  34 441  72   7  87 137 297 311\n",
      "  15 427 105  78 349 368 110 372 455 392 214 217 222 180 209  40 458  41\n",
      " 314 203 240 124 347 139 227 159  77  64 376 450  63 107 467 201 338  74\n",
      " 116 123 471  32 138 112 474 122  49 302 433 301 423  54 226 173  17  30\n",
      " 182  80  60 276 406  36  61 144 188 424 313 480  89 312 402 339 200 272\n",
      " 259 412 108 158 288 448 171 348 303 403  42  21 261 443 210 184 396 367\n",
      "  99 194 275 268 326  83  71 375 160  35  39  84 156 155 333   5 202 370\n",
      " 206 154 253 142 282 398 410 149 126 141  56 187 341 195 451 183 230  16\n",
      "  73 391  52 151 185 238 241 161 475 143 176 132 295 407 118  51 273 281\n",
      " 260 422 417 457 306 266 219 411  28 119 211 197  66 234 113  58 353 447\n",
      "  82 476  14  29 361 128 416 212 120 350 442 237 363  97 425  98 129 140\n",
      " 377 360 401  10   0 265 462  38 327 208 221 255  68 286 351 109 290 395\n",
      " 342 274 323 192 335 343  11 310 215 291 414 415 359 418 163  33  95 169\n",
      " 229 429   2 299  75  27 224  91 245 452 256  62 373 284 459  23 453 165\n",
      " 481 220 167 461 357 252 316 102 477 468 207  96 131 472 190  69 164 390\n",
      "   6 346 389 152 405   8 294 121 430 315 150 428 431 130 319 264 103 177\n",
      " 287 162  94 478 242  19 465 320  43 157 289 191 223 148]\n",
      "     city  country  postalCode  stateOrProvince  bathrooms  bedrooms  \\\n",
      "0     420        2       63376               20          6         5   \n",
      "202     3        2       87111               27          4         5   \n",
      "210   181        2       49328               18          2         3   \n",
      "211   426        2  28625-8707               23          2         3   \n",
      "212    85        2       55448               19          2         3   \n",
      "\n",
      "      latitude   longitude  listPrice  livingArea  livingAreaUnit  yearBuilt  \\\n",
      "0    36.058472  -88.433106  -0.013684    0.973075               0   0.380010   \n",
      "202  35.136315 -106.547167  -0.003842    1.547121               0  -0.229349   \n",
      "210  42.628065  -85.763671  -0.062897   -0.272562               0  -1.752746   \n",
      "211  35.825348  -80.938634  -0.059497   -0.534120               0   0.336484   \n",
      "212  45.158666  -93.269315  -0.052178   -0.254434               0  -0.425214   \n",
      "\n",
      "     lotSizeUnit  propertySubType  listingCategory  photoscount  grade  \n",
      "0              0                9                0           29      1  \n",
      "202            0                9                0           88      1  \n",
      "210            0                9                0           40      1  \n",
      "211            0                9                0           29      1  \n",
      "212            0                9                0           29      1  \n",
      "<class 'pandas.core.frame.DataFrame'>\n",
      "Int64Index: 674 entries, 0 to 277\n",
      "Data columns (total 17 columns):\n",
      "city               674 non-null int64\n",
      "country            674 non-null int64\n",
      "postalCode         674 non-null object\n",
      "stateOrProvince    674 non-null int64\n",
      "bathrooms          674 non-null int64\n",
      "bedrooms           674 non-null int64\n",
      "latitude           674 non-null float64\n",
      "longitude          674 non-null float64\n",
      "listPrice          674 non-null float64\n",
      "livingArea         674 non-null float64\n",
      "livingAreaUnit     674 non-null int64\n",
      "yearBuilt          674 non-null float64\n",
      "lotSizeUnit        674 non-null int64\n",
      "propertySubType    674 non-null int64\n",
      "listingCategory    674 non-null int64\n",
      "photoscount        674 non-null int64\n",
      "grade              674 non-null int64\n",
      "dtypes: float64(5), int64(11), object(1)\n",
      "memory usage: 114.8+ KB\n",
      "None\n"
     ]
    }
   ],
   "source": [
    "print(data['city'].unique())\n",
    "print(data.head())\n",
    "print(data.info())\n",
    "del data['postalCode']"
   ]
  },
  {
   "cell_type": "code",
   "execution_count": 75,
   "metadata": {},
   "outputs": [
    {
     "name": "stdout",
     "output_type": "stream",
     "text": [
      "1    266\n",
      "3    227\n",
      "2    181\n",
      "Name: grade, dtype: int64\n"
     ]
    }
   ],
   "source": [
    "print(data['grade'].value_counts())"
   ]
  },
  {
   "cell_type": "code",
   "execution_count": 139,
   "metadata": {},
   "outputs": [],
   "source": [
    "def train_and_test_data(data):\n",
    "    #print(data.info())\n",
    "    train_data = pd.DataFrame(columns=data.columns)\n",
    "    test_data = pd.DataFrame(columns=data.columns)\n",
    "    \n",
    "    data1 = data[data['grade'] == 1]\n",
    "    data2 = data[data['grade'] == 2]\n",
    "    data3 = data[data['grade'] == 3]\n",
    "    \n",
    "    train_data = train_data.append(data1[:200])\n",
    "    train_data = train_data.append(data2[:130])\n",
    "    train_data = train_data.append(data3[:180])\n",
    "    \n",
    "    test_data = test_data.append(data1[200:])\n",
    "    test_data = test_data.append(data2[130:])\n",
    "    test_data = test_data.append(data3[180:])\n",
    "    \n",
    "    \n",
    "    \n",
    "    \n",
    "    return (train_data,test_data)\n",
    "    \n",
    "    \n",
    "    "
   ]
  },
  {
   "cell_type": "code",
   "execution_count": null,
   "metadata": {},
   "outputs": [],
   "source": []
  },
  {
   "cell_type": "code",
   "execution_count": 149,
   "metadata": {},
   "outputs": [
    {
     "name": "stdout",
     "output_type": "stream",
     "text": [
      "(510, 16)\n",
      "(164, 16)\n",
      "\n",
      "The value counts in train : \n",
      " 1    200\n",
      "3    180\n",
      "2    130\n",
      "Name: grade, dtype: int64\n",
      "\n",
      "The value counts in test : \n",
      " 1    66\n",
      "2    51\n",
      "3    47\n",
      "Name: grade, dtype: int64\n",
      "<class 'pandas.core.frame.DataFrame'>\n",
      "Int64Index: 510 entries, 0 to 535\n",
      "Data columns (total 16 columns):\n",
      "city               510 non-null int32\n",
      "country            510 non-null int32\n",
      "stateOrProvince    510 non-null int32\n",
      "bathrooms          510 non-null int32\n",
      "bedrooms           510 non-null int32\n",
      "latitude           510 non-null float64\n",
      "longitude          510 non-null float64\n",
      "listPrice          510 non-null float64\n",
      "livingArea         510 non-null float64\n",
      "livingAreaUnit     510 non-null int32\n",
      "yearBuilt          510 non-null float64\n",
      "lotSizeUnit        510 non-null int32\n",
      "propertySubType    510 non-null int32\n",
      "listingCategory    510 non-null int32\n",
      "photoscount        510 non-null int32\n",
      "grade              510 non-null int32\n",
      "dtypes: float64(5), int32(11)\n",
      "memory usage: 45.8 KB\n",
      "None\n",
      "<class 'pandas.core.frame.DataFrame'>\n",
      "Int64Index: 164 entries, 61 to 277\n",
      "Data columns (total 16 columns):\n",
      "city               164 non-null int32\n",
      "country            164 non-null int32\n",
      "stateOrProvince    164 non-null int32\n",
      "bathrooms          164 non-null int32\n",
      "bedrooms           164 non-null int32\n",
      "latitude           164 non-null float64\n",
      "longitude          164 non-null float64\n",
      "listPrice          164 non-null float64\n",
      "livingArea         164 non-null float64\n",
      "livingAreaUnit     164 non-null int32\n",
      "yearBuilt          164 non-null float64\n",
      "lotSizeUnit        164 non-null int32\n",
      "propertySubType    164 non-null int32\n",
      "listingCategory    164 non-null int32\n",
      "photoscount        164 non-null int32\n",
      "grade              164 non-null int32\n",
      "dtypes: float64(5), int32(11)\n",
      "memory usage: 14.7 KB\n",
      "None\n"
     ]
    }
   ],
   "source": [
    "(train,test) = train_and_test_data(data)\n",
    "\n",
    "\n",
    "train['city'] = train['city'].astype('int')\n",
    "train['country'] = train['country'].astype('int')\n",
    "train['stateOrProvince'] = train['stateOrProvince'].astype('int')\n",
    "train['bathrooms'] = train['bathrooms'].astype('int')\n",
    "train['bedrooms'] = train['bedrooms'].astype('int')\n",
    "train['lotSizeUnit'] = train['lotSizeUnit'].astype('int')\n",
    "train['propertySubType'] = train['propertySubType'].astype('int')\n",
    "train['listingCategory'] = train['listingCategory'].astype('int')\n",
    "train['photoscount'] = train['photoscount'].astype('int')\n",
    "train['livingAreaUnit'] = train['livingAreaUnit'].astype('int')\n",
    "train['grade'] = train['grade'].astype('int')\n",
    "\n",
    "test['city'] = test['city'].astype('int')\n",
    "test['country'] = test['country'].astype('int')\n",
    "test['stateOrProvince'] = test['stateOrProvince'].astype('int')\n",
    "test['bathrooms'] = test['bathrooms'].astype('int')\n",
    "test['bedrooms'] = test['bedrooms'].astype('int')\n",
    "test['lotSizeUnit'] = test['lotSizeUnit'].astype('int')\n",
    "test['propertySubType'] = test['propertySubType'].astype('int')\n",
    "test['listingCategory'] = test['listingCategory'].astype('int')\n",
    "test['photoscount'] = test['photoscount'].astype('int')\n",
    "test['grade'] = test['grade'].astype('int')\n",
    "test['livingAreaUnit'] = test['livingAreaUnit'].astype('int')\n",
    "print(train.shape)\n",
    "print(test.shape)\n",
    "print(\"\\nThe value counts in train : \\n\",train['grade'].value_counts())\n",
    "print(\"\\nThe value counts in test : \\n\",test['grade'].value_counts())\n",
    "\n",
    "print(train.info())\n",
    "print(test.info())\n",
    "train_x = train.drop(['grade'],axis=1)\n",
    "train_y = train['grade']\n",
    "test_x = test.drop(['grade'],axis=1)\n",
    "test_y = test['grade']"
   ]
  },
  {
   "cell_type": "code",
   "execution_count": 150,
   "metadata": {},
   "outputs": [
    {
     "name": "stdout",
     "output_type": "stream",
     "text": [
      "     city  country  stateOrProvince  bathrooms  bedrooms   latitude  \\\n",
      "0     420        2               20          6         5  36.058472   \n",
      "202     3        2               27          4         5  35.136315   \n",
      "210   181        2               18          2         3  42.628065   \n",
      "211   426        2               23          2         3  35.825348   \n",
      "212    85        2               19          2         3  45.158666   \n",
      "\n",
      "      longitude  listPrice  livingArea  livingAreaUnit  yearBuilt  \\\n",
      "0    -88.433106  -0.013684    0.973075               0   0.380010   \n",
      "202 -106.547167  -0.003842    1.547121               0  -0.229349   \n",
      "210  -85.763671  -0.062897   -0.272562               0  -1.752746   \n",
      "211  -80.938634  -0.059497   -0.534120               0   0.336484   \n",
      "212  -93.269315  -0.052178   -0.254434               0  -0.425214   \n",
      "\n",
      "     lotSizeUnit  propertySubType  listingCategory  photoscount  \n",
      "0              0                9                0           29  \n",
      "202            0                9                0           88  \n",
      "210            0                9                0           40  \n",
      "211            0                9                0           29  \n",
      "212            0                9                0           29  \n",
      "\n",
      "\n",
      "\n",
      "\n",
      "\n",
      "0      1\n",
      "202    1\n",
      "210    1\n",
      "211    1\n",
      "212    1\n",
      "Name: grade, dtype: int32\n",
      "<class 'pandas.core.frame.DataFrame'>\n",
      "Int64Index: 510 entries, 0 to 535\n",
      "Data columns (total 15 columns):\n",
      "city               510 non-null int32\n",
      "country            510 non-null int32\n",
      "stateOrProvince    510 non-null int32\n",
      "bathrooms          510 non-null int32\n",
      "bedrooms           510 non-null int32\n",
      "latitude           510 non-null float64\n",
      "longitude          510 non-null float64\n",
      "listPrice          510 non-null float64\n",
      "livingArea         510 non-null float64\n",
      "livingAreaUnit     510 non-null int32\n",
      "yearBuilt          510 non-null float64\n",
      "lotSizeUnit        510 non-null int32\n",
      "propertySubType    510 non-null int32\n",
      "listingCategory    510 non-null int32\n",
      "photoscount        510 non-null int32\n",
      "dtypes: float64(5), int32(10)\n",
      "memory usage: 43.8 KB\n",
      "None\n"
     ]
    }
   ],
   "source": [
    "print(train_x.head())\n",
    "print(\"\\n\\n\\n\\n\")\n",
    "print(train_y.head())\n",
    "print(train_x.info())"
   ]
  },
  {
   "cell_type": "code",
   "execution_count": 151,
   "metadata": {},
   "outputs": [],
   "source": [
    "from xgboost import XGBClassifier\n",
    "clf = XGBClassifier()\n"
   ]
  },
  {
   "cell_type": "code",
   "execution_count": null,
   "metadata": {},
   "outputs": [],
   "source": []
  },
  {
   "cell_type": "code",
   "execution_count": 152,
   "metadata": {},
   "outputs": [
    {
     "data": {
      "text/plain": [
       "XGBClassifier(base_score=0.5, booster='gbtree', colsample_bylevel=1,\n",
       "       colsample_bytree=1, gamma=0, learning_rate=0.1, max_delta_step=0,\n",
       "       max_depth=3, min_child_weight=1, missing=None, n_estimators=100,\n",
       "       n_jobs=1, nthread=None, objective='multi:softprob', random_state=0,\n",
       "       reg_alpha=0, reg_lambda=1, scale_pos_weight=1, seed=None,\n",
       "       silent=True, subsample=1)"
      ]
     },
     "execution_count": 152,
     "metadata": {},
     "output_type": "execute_result"
    }
   ],
   "source": [
    "clf.fit(train_x,train_y)"
   ]
  },
  {
   "cell_type": "code",
   "execution_count": 153,
   "metadata": {},
   "outputs": [
    {
     "name": "stderr",
     "output_type": "stream",
     "text": [
      "C:\\Users\\arspiedy\\Anaconda3\\lib\\site-packages\\sklearn\\preprocessing\\label.py:151: DeprecationWarning: The truth value of an empty array is ambiguous. Returning False, but in future this will result in an error. Use `array.size > 0` to check that an array is not empty.\n",
      "  if diff:\n"
     ]
    },
    {
     "data": {
      "text/plain": [
       "0.8719512195121951"
      ]
     },
     "execution_count": 153,
     "metadata": {},
     "output_type": "execute_result"
    }
   ],
   "source": [
    "clf.score(test_x,test_y)"
   ]
  },
  {
   "cell_type": "code",
   "execution_count": null,
   "metadata": {},
   "outputs": [],
   "source": []
  }
 ],
 "metadata": {
  "kernelspec": {
   "display_name": "Python 3",
   "language": "python",
   "name": "python3"
  },
  "language_info": {
   "codemirror_mode": {
    "name": "ipython",
    "version": 3
   },
   "file_extension": ".py",
   "mimetype": "text/x-python",
   "name": "python",
   "nbconvert_exporter": "python",
   "pygments_lexer": "ipython3",
   "version": "3.6.6"
  }
 },
 "nbformat": 4,
 "nbformat_minor": 2
}

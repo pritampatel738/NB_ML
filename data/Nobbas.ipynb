{
 "cells": [
  {
   "cell_type": "code",
   "execution_count": 1,
   "metadata": {},
   "outputs": [],
   "source": [
    "import pandas as pd\n",
    "import numpy as np\n",
    "import matplotlib.pyplot as plt\n",
    "%matplotlib inline"
   ]
  },
  {
   "cell_type": "code",
   "execution_count": 2,
   "metadata": {},
   "outputs": [],
   "source": [
    "data1 = pd.read_csv('csv1.csv')\n",
    "data2 = pd.read_csv('csv2.csv')\n",
    "data3 = pd.read_csv('csv3.csv')"
   ]
  },
  {
   "cell_type": "code",
   "execution_count": 3,
   "metadata": {},
   "outputs": [
    {
     "name": "stdout",
     "output_type": "stream",
     "text": [
      "(900, 26)\n",
      "(900, 2)\n",
      "(900, 2)\n"
     ]
    }
   ],
   "source": [
    "print(data1.shape)\n",
    "print(data2.shape)\n",
    "print(data3.shape)"
   ]
  },
  {
   "cell_type": "code",
   "execution_count": 4,
   "metadata": {},
   "outputs": [
    {
     "name": "stdout",
     "output_type": "stream",
     "text": [
      "        id        city country          fullStreetAddress postalCode  \\\n",
      "0  2698139   St Peters      US     12 Legacy Estates Lane      63376   \n",
      "1  2698093    St Louis      US          222 Euclid Avenue      63119   \n",
      "2  2698007     Ballwin      US  741 Woodside Trails Drive      63021   \n",
      "3  2697963  Manchester      US           301 Wembley Lane      63021   \n",
      "4  2697938    O'fallon      US           27 Clear Meadows      63366   \n",
      "\n",
      "  stateOrProvince unitNumber  bathrooms  bedrooms  \\\n",
      "0              MO        NaN          6         5   \n",
      "1              MO        NaN          2         3   \n",
      "2              MO        NaN          3         3   \n",
      "3              MO        NaN          2         3   \n",
      "4              MO        NaN          4         4   \n",
      "\n",
      "                                  listingDescription   ...    yearBuilt  \\\n",
      "0  Tucked away in the private Legacy Estates subd...   ...       1998.0   \n",
      "1  This charming Ranch offers hardwood flooring o...   ...       1962.0   \n",
      "2  This is the LARGEST Villa-style condo in this ...   ...       1986.0   \n",
      "3  Over 1700 sq ft of updated living space in con...   ...       1969.0   \n",
      "4  Move in ready, excellent condition. Outstandin...   ...       2007.0   \n",
      "\n",
      "    lotSize  lotSizeUnit         propertySubType  listingCategory  \\\n",
      "0       NaN   squareFoot  Single Family Detached         Purchase   \n",
      "1   7753.68   squareFoot  Single Family Detached         Purchase   \n",
      "2  14766.84   squareFoot             Condominium         Purchase   \n",
      "3  11848.32   squareFoot  Single Family Detached         Purchase   \n",
      "4  10890.00   squareFoot  Single Family Detached         Purchase   \n",
      "\n",
      "  numParkingSpaces                   createdAt  geocodioAccuracyScore  \\\n",
      "0              3.0  2019-02-21 14:53:27.462+00                    NaN   \n",
      "1              1.0   2019-02-21 14:53:07.92+00                    NaN   \n",
      "2              2.0  2019-02-21 14:52:30.126+00                    NaN   \n",
      "3              2.0   2019-02-21 14:52:11.85+00                    NaN   \n",
      "4              3.0  2019-02-21 14:51:55.495+00                    NaN   \n",
      "\n",
      "  photoscount    grade  \n",
      "0          29  awesome  \n",
      "1          29  awesome  \n",
      "2          29  awesome  \n",
      "3          29  awesome  \n",
      "4          29  awesome  \n",
      "\n",
      "[5 rows x 26 columns]\n"
     ]
    }
   ],
   "source": [
    "print(data1.head())"
   ]
  },
  {
   "cell_type": "code",
   "execution_count": 9,
   "metadata": {},
   "outputs": [
    {
     "name": "stdout",
     "output_type": "stream",
     "text": [
      "[0]\n",
      "[0]\n",
      "        id  favouritecount\n",
      "0  2698139               0\n",
      "1  2698093               0\n",
      "2  2698007               0\n",
      "3  2697963               0\n",
      "4  2697938               0\n",
      "        id  collabprojectscount\n",
      "0  2698139                    0\n",
      "1  2698093                    0\n",
      "2  2698007                    0\n",
      "3  2697963                    0\n",
      "4  2697938                    0\n",
      "Index(['id', 'city', 'country', 'fullStreetAddress', 'postalCode',\n",
      "       'stateOrProvince', 'unitNumber', 'bathrooms', 'bedrooms',\n",
      "       'listingDescription', 'listingTitle', 'latitude', 'longitude',\n",
      "       'listPrice', 'livingArea', 'livingAreaUnit', 'yearBuilt', 'lotSize',\n",
      "       'lotSizeUnit', 'propertySubType', 'listingCategory', 'numParkingSpaces',\n",
      "       'createdAt', 'geocodioAccuracyScore', 'photoscount', 'grade'],\n",
      "      dtype='object')\n"
     ]
    }
   ],
   "source": [
    "print(data2['favouritecount'].unique())\n",
    "print(data3['collabprojectscount'].unique())\n",
    "print(data2.head())\n",
    "print(data3.head())\n",
    "print(data1.columns)"
   ]
  },
  {
   "cell_type": "markdown",
   "metadata": {},
   "source": [
    "## csv1 exploration"
   ]
  },
  {
   "cell_type": "code",
   "execution_count": 11,
   "metadata": {},
   "outputs": [
    {
     "name": "stdout",
     "output_type": "stream",
     "text": [
      "Index(['id', 'city', 'country', 'fullStreetAddress', 'postalCode',\n",
      "       'stateOrProvince', 'unitNumber', 'bathrooms', 'bedrooms',\n",
      "       'listingDescription', 'listingTitle', 'latitude', 'longitude',\n",
      "       'listPrice', 'livingArea', 'livingAreaUnit', 'yearBuilt', 'lotSize',\n",
      "       'lotSizeUnit', 'propertySubType', 'listingCategory', 'numParkingSpaces',\n",
      "       'createdAt', 'geocodioAccuracyScore', 'photoscount', 'grade'],\n",
      "      dtype='object')\n",
      "        id       city country          fullStreetAddress postalCode  \\\n",
      "0  2698139  St Peters      US     12 Legacy Estates Lane      63376   \n",
      "1  2698093   St Louis      US          222 Euclid Avenue      63119   \n",
      "2  2698007    Ballwin      US  741 Woodside Trails Drive      63021   \n",
      "\n",
      "  stateOrProvince unitNumber  bathrooms  bedrooms  \\\n",
      "0              MO        NaN          6         5   \n",
      "1              MO        NaN          2         3   \n",
      "2              MO        NaN          3         3   \n",
      "\n",
      "                                  listingDescription   ...    yearBuilt  \\\n",
      "0  Tucked away in the private Legacy Estates subd...   ...       1998.0   \n",
      "1  This charming Ranch offers hardwood flooring o...   ...       1962.0   \n",
      "2  This is the LARGEST Villa-style condo in this ...   ...       1986.0   \n",
      "\n",
      "    lotSize  lotSizeUnit         propertySubType  listingCategory  \\\n",
      "0       NaN   squareFoot  Single Family Detached         Purchase   \n",
      "1   7753.68   squareFoot  Single Family Detached         Purchase   \n",
      "2  14766.84   squareFoot             Condominium         Purchase   \n",
      "\n",
      "  numParkingSpaces                   createdAt  geocodioAccuracyScore  \\\n",
      "0              3.0  2019-02-21 14:53:27.462+00                    NaN   \n",
      "1              1.0   2019-02-21 14:53:07.92+00                    NaN   \n",
      "2              2.0  2019-02-21 14:52:30.126+00                    NaN   \n",
      "\n",
      "  photoscount    grade  \n",
      "0          29  awesome  \n",
      "1          29  awesome  \n",
      "2          29  awesome  \n",
      "\n",
      "[3 rows x 26 columns]\n"
     ]
    }
   ],
   "source": [
    "print(data1.columns)\n",
    "print(data1.head(3))"
   ]
  },
  {
   "cell_type": "code",
   "execution_count": 13,
   "metadata": {},
   "outputs": [
    {
     "name": "stdout",
     "output_type": "stream",
     "text": [
      "<class 'pandas.core.frame.DataFrame'>\n",
      "RangeIndex: 900 entries, 0 to 899\n",
      "Data columns (total 26 columns):\n",
      "id                       900 non-null int64\n",
      "city                     900 non-null object\n",
      "country                  900 non-null object\n",
      "fullStreetAddress        900 non-null object\n",
      "postalCode               900 non-null object\n",
      "stateOrProvince          899 non-null object\n",
      "unitNumber               118 non-null object\n",
      "bathrooms                900 non-null int64\n",
      "bedrooms                 900 non-null int64\n",
      "listingDescription       842 non-null object\n",
      "listingTitle             900 non-null object\n",
      "latitude                 789 non-null float64\n",
      "longitude                789 non-null float64\n",
      "listPrice                900 non-null float64\n",
      "livingArea               726 non-null float64\n",
      "livingAreaUnit           900 non-null object\n",
      "yearBuilt                791 non-null float64\n",
      "lotSize                  562 non-null float64\n",
      "lotSizeUnit              900 non-null object\n",
      "propertySubType          900 non-null object\n",
      "listingCategory          900 non-null object\n",
      "numParkingSpaces         460 non-null float64\n",
      "createdAt                900 non-null object\n",
      "geocodioAccuracyScore    27 non-null float64\n",
      "photoscount              900 non-null int64\n",
      "grade                    900 non-null object\n",
      "dtypes: float64(8), int64(4), object(14)\n",
      "memory usage: 182.9+ KB\n",
      "None\n",
      "id                       False\n",
      "city                     False\n",
      "country                  False\n",
      "fullStreetAddress        False\n",
      "postalCode               False\n",
      "stateOrProvince           True\n",
      "unitNumber                True\n",
      "bathrooms                False\n",
      "bedrooms                 False\n",
      "listingDescription        True\n",
      "listingTitle             False\n",
      "latitude                  True\n",
      "longitude                 True\n",
      "listPrice                False\n",
      "livingArea                True\n",
      "livingAreaUnit           False\n",
      "yearBuilt                 True\n",
      "lotSize                   True\n",
      "lotSizeUnit              False\n",
      "propertySubType          False\n",
      "listingCategory          False\n",
      "numParkingSpaces          True\n",
      "createdAt                False\n",
      "geocodioAccuracyScore     True\n",
      "photoscount              False\n",
      "grade                    False\n",
      "dtype: bool\n"
     ]
    }
   ],
   "source": [
    "print(data1.info())\n",
    "print(data1.isnull().any())"
   ]
  },
  {
   "cell_type": "code",
   "execution_count": 23,
   "metadata": {},
   "outputs": [
    {
     "name": "stdout",
     "output_type": "stream",
     "text": [
      "stateOrProvince  1\n",
      "listingDescription  58\n",
      "latitude  111\n",
      "unitNumber 782\n",
      "longitude 111\n",
      "yearBuilt 109\n",
      "lotSize 338\n",
      "livingArea 174\n",
      "numParkingSpaces 440\n",
      "geocodioAccuracyScore 873\n"
     ]
    }
   ],
   "source": [
    "print(\"stateOrProvince \",data1['stateOrProvince'].isnull().sum())\n",
    "print(\"listingDescription \",data1['listingDescription'].isnull().sum())\n",
    "print(\"latitude \",data1['latitude'].isnull().sum())\n",
    "print(\"unitNumber\",data1['unitNumber'].isnull().sum())\n",
    "print(\"longitude\",data1['longitude'].isnull().sum())\n",
    "print(\"yearBuilt\",data1['yearBuilt'].isnull().sum())\n",
    "print(\"lotSize\",data1['lotSize'].isnull().sum())\n",
    "print(\"livingArea\",data1['livingArea'].isnull().sum())\n",
    "print(\"numParkingSpaces\",data1['numParkingSpaces'].isnull().sum())\n",
    "print(\"geocodioAccuracyScore\",data1['geocodioAccuracyScore'].isnull().sum())"
   ]
  },
  {
   "cell_type": "code",
   "execution_count": null,
   "metadata": {},
   "outputs": [],
   "source": [
    "featuresToRemove = ['geocodioAccuracyScore','numParkingSpaces','unitNumber','']"
   ]
  },
  {
   "cell_type": "code",
   "execution_count": 33,
   "metadata": {},
   "outputs": [
    {
     "name": "stdout",
     "output_type": "stream",
     "text": [
      "(561, 26)\n"
     ]
    }
   ],
   "source": [
    "data_plot = data1[data1['lotSize'] > 0]\n",
    "print(data_plot.shape)"
   ]
  },
  {
   "cell_type": "code",
   "execution_count": 40,
   "metadata": {},
   "outputs": [
    {
     "data": {
      "text/plain": [
       "<matplotlib.collections.PathCollection at 0x154a31aaef0>"
      ]
     },
     "execution_count": 40,
     "metadata": {},
     "output_type": "execute_result"
    },
    {
     "data": {
      "image/png": "[encoded data removed]",
      "text/plain": [
       "<Figure size 432x288 with 1 Axes>"
      ]
     },
     "metadata": {
      "needs_background": "light"
     },
     "output_type": "display_data"
    }
   ],
   "source": [
    "plt.scatter(data_plot['lotSize'][:200],data_plot['listPrice'][:200])"
   ]
  },
  {
   "cell_type": "code",
   "execution_count": null,
   "metadata": {},
   "outputs": [],
   "source": []
  },
  {
   "cell_type": "code",
   "execution_count": null,
   "metadata": {},
   "outputs": [],
   "source": []
  },
  {
   "cell_type": "code",
   "execution_count": null,
   "metadata": {},
   "outputs": [],
   "source": []
  },
  {
   "cell_type": "code",
   "execution_count": null,
   "metadata": {},
   "outputs": [],
   "source": []
  }
 ],
 "metadata": {
  "kernelspec": {
   "display_name": "Python 3",
   "language": "python",
   "name": "python3"
  },
  "language_info": {
   "codemirror_mode": {
    "name": "ipython",
    "version": 3
   },
   "file_extension": ".py",
   "mimetype": "text/x-python",
   "name": "python",
   "nbconvert_exporter": "python",
   "pygments_lexer": "ipython3",
   "version": "3.6.6"
  }
 },
 "nbformat": 4,
 "nbformat_minor": 2
}
